{
 "cells": [
  {
   "cell_type": "markdown",
   "metadata": {},
   "source": [
    "# Project 1 - Similar Document Searching"
   ]
  },
  {
   "cell_type": "markdown",
   "metadata": {},
   "source": [
    "## Via Minhash and Locality Sensitive Hashing"
   ]
  },
  {
   "cell_type": "markdown",
   "metadata": {},
   "source": [
    "### Part IA: Dataset Parsing"
   ]
  },
  {
   "cell_type": "markdown",
   "metadata": {},
   "source": [
    "#### Write a function that takes a path to a dataset, reads in each article, and returns an array of tuples. \n",
    "\n",
    "#### One tuple per article (there is one article per line) \n",
    "#### For each article tuples will contain (id, string) where id is the article id and string is the article text formatted as follows:\n",
    "\n",
    "#### 1) remove all punctuation\n",
    "#### 2) change all letters to lowercase\n",
    "#### 3) remove all whitespace so that all words are concatenated"
   ]
  },
  {
   "cell_type": "code",
   "execution_count": 1,
   "metadata": {
    "collapsed": true
   },
   "outputs": [],
   "source": [
    "import string\n",
    "\n",
    "##function to parse a list of strings to output a list of tuples.  each tuple is an id and a formatted string\n",
    "def parse_data(LinesOfText):\n",
    "    TheLineTuples = []\n",
    "    for TheLine in LinesOfText:\n",
    "        if(len(TheLine) > 0):##split gives an extra row, so make sure there is something there\n",
    "            ##keep the txxx index separate from the actual text\n",
    "            TheLineParts = TheLine.split(\" \",maxsplit=1)\n",
    "            ##print(TheLineParts[0])\n",
    "            ##format each line in TheLines to remove spaces,all to lowercase,and remove punctuation\n",
    "            MostlyFormattedLine = TheLineParts[1].lower().replace(\" \",\"\")\n",
    "            ##to remove punctuation need tell python that every time it sees punctuation, it should be translated to a none \n",
    "            ##the list of punctuation is string.punctuation\n",
    "            ##the map from punctuation to none is str.maketrans; https://docs.python.org/3/library/stdtypes.html#str.maketrans\n",
    "            ##the output from str.maketrans is a table suitable for use in str.translate, which acutally carries out the translation\n",
    "            ##https://docs.python.org/3/library/stdtypes.html#str.translate\n",
    "            formattedLine = MostlyFormattedLine.translate(str.maketrans(dict.fromkeys(string.punctuation)))\n",
    "            ##print(formattedLine)\n",
    "            ##make the tuple\n",
    "            LineTuple = (TheLineParts[0],formattedLine)\n",
    "            TheLineTuples.append(LineTuple)\n",
    "            ##print(LineTuple)\n",
    "    return TheLineTuples\n",
    "        \n",
    "\n",
    "  "
   ]
  },
  {
   "cell_type": "code",
   "execution_count": 2,
   "metadata": {
    "collapsed": true
   },
   "outputs": [],
   "source": [
    "#get data to play around with\n",
    "from six.moves import urllib\n",
    "\n",
    "DataUrl = \"https://raw.githubusercontent.com/chrisjmccormick/MinHash/master/data/articles_100.train\"\n",
    "\n",
    "\n",
    "DataRequest = urllib.request.Request(DataUrl)\n",
    "with urllib.request.urlopen(DataRequest) as response:\n",
    "   DataRaw = response.read()\n",
    "TheLines = str(DataRaw)[2:-1].split('\\\\n')##snip off the byte stuff and split at carriage returns\n",
    "MyArticleTuples = parse_data(TheLines)\n",
    "##print(MyArticleTuples[38])\n",
    "##print(MyArticleTuples[10])"
   ]
  },
  {
   "cell_type": "markdown",
   "metadata": {},
   "source": [
    "### Part IB: Document shingles"
   ]
  },
  {
   "cell_type": "markdown",
   "metadata": {},
   "source": [
    "#### Write a function shingle_document that given a processed article string and a parameter k shards the document as follows:\n",
    "\n",
    "#### 1) each substring of length $k$ in document is hashed to a 32-bit integer\n",
    "\n",
    "#### 2) returns a list of the unique 32-bit integers obtained in previous step"
   ]
  },
  {
   "cell_type": "code",
   "execution_count": 3,
   "metadata": {
    "collapsed": true
   },
   "outputs": [],
   "source": [
    "from binascii import crc32\n",
    "\n",
    "##from https://docs.python.org/3/tutorial/datastructures.html#sets...\n",
    "##A set is an unordered collection with no duplicate elements. \n",
    "##Basic uses include membership testing and eliminating duplicate entries. \n",
    "##Set objects also support mathematical operations like union, intersection, difference, and symmetric difference.\n",
    "##make an empty set\n",
    "\n",
    "\n",
    "\n",
    "###function expects a tuple of length 2(id,article string)\n",
    "def shingle_document(aTuple):\n",
    "    ShardSet = set()\n",
    "    ShardStringSet = set()\n",
    "    ##specify shingle length\n",
    "    k=3\n",
    "    ##take a look at each character of the tuple and keep track of the index of each character\n",
    "    for CharacterIndex,TheCharacter in enumerate(aTuple[1]):\n",
    "        ##keep track of id's\n",
    "        TheArticleId = aTuple[0]\n",
    "        ##make a string of length k for each character\n",
    "        TheCrcString = aTuple[1][CharacterIndex:(CharacterIndex+k)]\n",
    "        ##only process strings of length 3, the last two characters won't have as many permutations\n",
    "        if(len(TheCrcString) > 2):\n",
    "            ##just to see\n",
    "            ShardStringSet.add(TheCrcString)\n",
    "            ##encode the string to an integer\n",
    "            CrcHashedItem = crc32(TheCrcString.encode('utf-8'))\n",
    "            ##add each encoded string to the ShardSet\n",
    "            ShardSet.add(CrcHashedItem)\n",
    "    return([ShardSet,ShardStringSet,TheArticleId])\n",
    "\n",
    "    "
   ]
  },
  {
   "cell_type": "markdown",
   "metadata": {},
   "source": [
    "### Part IC: Jaccard Similarity\n",
    "\n",
    "#### Write a function jaccard that given two sharded documents, computes their Jaccard distance"
   ]
  },
  {
   "cell_type": "code",
   "execution_count": 4,
   "metadata": {
    "collapsed": true
   },
   "outputs": [],
   "source": [
    "##find ratio of set intersection to their union\n",
    "def jaccard(Set1,Set2):\n",
    "    fred = shingle_document(Set1)\n",
    "    jim = shingle_document(Set2)\n",
    "    ##intersect\n",
    "    intersect = fred[0]&jim[0]\n",
    "    union = fred[0]|jim[0]\n",
    "    ratio = len(intersect)/len(union)\n",
    "    return([intersect,union,ratio])\n"
   ]
  },
  {
   "cell_type": "code",
   "execution_count": 5,
   "metadata": {
    "collapsed": true
   },
   "outputs": [],
   "source": [
    "##find ratio of set intersection to their union\n",
    "##this one is for part 1d\n",
    "def get_jaccard(ShingledSet1,ShingledSet2):\n",
    "    ##print(ShingledSet1)\n",
    "    ##intersect\n",
    "    intersect = ShingledSet1&ShingledSet2\n",
    "    union = ShingledSet1|ShingledSet2\n",
    "    ratio = len(intersect)/len(union)\n",
    "    return([intersect,union,ratio])"
   ]
  },
  {
   "cell_type": "code",
   "execution_count": 6,
   "metadata": {},
   "outputs": [
    {
     "name": "stdout",
     "output_type": "stream",
     "text": [
      "0.22275204359673023\n"
     ]
    }
   ],
   "source": [
    "GetJaccard = jaccard(MyArticleTuples[2],MyArticleTuples[4])\n",
    "print(GetJaccard[2])\n"
   ]
  },
  {
   "cell_type": "markdown",
   "metadata": {},
   "source": [
    "### Part ID: Put it all together\n",
    "\n",
    "#### Input a dataset\n",
    "#### Output a list of tuples (id1,id2,Jaccard Similarity)"
   ]
  },
  {
   "cell_type": "code",
   "execution_count": 7,
   "metadata": {
    "scrolled": false
   },
   "outputs": [
    {
     "name": "stdout",
     "output_type": "stream",
     "text": [
      "[('t980', 't1233', 0.24079528718703977), ('t980', 't1235', 0.22944960686204433), ('t980', 't1297', 0.22230320699708456), ('t980', 't1768', 0.23645680819912152), ('t980', 't1952', 0.22973977695167286), ('t980', 't2023', 0.22375478927203066), ('t980', 't3170', 0.992583436341162), ('t980', 't3171', 0.23984674329501915), ('t980', 't3172', 0.23303834808259588)]\n"
     ]
    }
   ],
   "source": [
    "#get data to play around with\n",
    "from six.moves import urllib\n",
    "\n",
    "DataUrl = \"https://raw.githubusercontent.com/chrisjmccormick/MinHash/master/data/articles_100.train\"\n",
    "\n",
    "\n",
    "DataRequest = urllib.request.Request(DataUrl)\n",
    "with urllib.request.urlopen(DataRequest) as response:\n",
    "   DataRaw = response.read()\n",
    "TheLines = str(DataRaw)[2:-1].split('\\\\n')##snip off the byte stuff and split at carriage returns\n",
    "MyArticleTuples = parse_data(TheLines)\n",
    "\n",
    "##take a look at each character of the tuple and keep track of the index of each character\n",
    "ParsedShardedArticles = []\n",
    "for TheFile in MyArticleTuples:\n",
    "    ##shard each article and keep it in an array of arrays [id,sharded set]\n",
    "    ShingleResult = shingle_document(TheFile)\n",
    "    ParsedShardedArticles.append([ShingleResult[2],ShingleResult[0]])\n",
    "##go through ParsedShardedArticles and perform jaccard similarity for each unique pairing of articles\n",
    "##put id's and jaccard similarities here\n",
    "TheOutput = []\n",
    "for Index,Article in enumerate(ParsedShardedArticles):\n",
    "    EndIndex = Index + 1\n",
    "    ##print(ParsedShardedArticles[EndIndex][1])\n",
    "    while EndIndex <= len(ParsedShardedArticles) - 2:\n",
    "        GetJaccard = get_jaccard(Article[1],ParsedShardedArticles[EndIndex][1])\n",
    "        ##print(Article)\n",
    "        EndIndex = EndIndex + 1\n",
    "        TheOutput.append((Article[0],ParsedShardedArticles[EndIndex][0],GetJaccard[2]))\n",
    "print(TheOutput[0:9])\n",
    "    "
   ]
  },
  {
   "cell_type": "markdown",
   "metadata": {
    "collapsed": true
   },
   "source": [
    "## Part IE: Experiment 0\n",
    "\n",
    "#### Find the effect of sharding length k on the Jaccard similarity of plagiarism instances versus instances that are not plagiarized. Carry out this experiment using the 1000 document dataset."
   ]
  },
  {
   "cell_type": "markdown",
   "metadata": {
    "collapsed": true
   },
   "source": [
    "First I'll download the 'truth' data for the 1000 document dataset, get the jaccard similarity for each document pair that are known to be cases of plagiarism, and repeat the process for multiple values of k.  Then, I'll get the average similarity for each value of k and store those values somewhere.  I'll repeat the process for document pairs that consist of one document known to be associated with a case of plagiarism and some other document not known to be associated with a case of plagiarism.  I'll get the average similarity for each value of k and store those values with the other k values.  Then, I'll plot k vs average jaccard similarity for each case and inspect the data."
   ]
  },
  {
   "cell_type": "markdown",
   "metadata": {},
   "source": [
    "#### Get a nicely formatted list of what the 'truth' document pairs are:"
   ]
  },
  {
   "cell_type": "code",
   "execution_count": 8,
   "metadata": {},
   "outputs": [
    {
     "name": "stdout",
     "output_type": "stream",
     "text": [
      "[['t1088', 't5015'], ['t1297', 't4638'], ['t1768', 't5248'], ['t1952', 't3495'], ['t980', 't2023'], ['t2535', 't8642'], ['t2839', 't9303'], ['t2957', 't7111'], ['t3268', 't7998'], ['t3466', 't7563']]\n"
     ]
    }
   ],
   "source": [
    "\n",
    "from six.moves import urllib\n",
    "\n",
    "DataUrl = \"https://raw.githubusercontent.com/chrisjmccormick/MinHash/master/data/articles_1000.truth\"\n",
    "\n",
    "\n",
    "DataRequest = urllib.request.Request(DataUrl)\n",
    "with urllib.request.urlopen(DataRequest) as response:\n",
    "   DataRaw = response.read()\n",
    "TheMatchLines = str(DataRaw)[2:-1].split('\\\\n')##snip off the byte stuff and split at carriage returns\n",
    "##isolate each document id and keep in a list of lists\n",
    "DocMatchList = []\n",
    "for MatchLine in TheMatchLines:\n",
    "    if(len(MatchLine) > 0):\n",
    "        MatchLineParts = MatchLine.split(\" \")\n",
    "        TheMatchPair = [MatchLineParts[0],MatchLineParts[1]]\n",
    "        DocMatchList.append(TheMatchPair)\n",
    "        \n",
    "print(DocMatchList)"
   ]
  },
  {
   "cell_type": "markdown",
   "metadata": {},
   "source": [
    "#### To get a list of (probably) unmatched documents, modify DocMatchList"
   ]
  },
  {
   "cell_type": "code",
   "execution_count": 9,
   "metadata": {},
   "outputs": [
    {
     "name": "stdout",
     "output_type": "stream",
     "text": [
      "[['t1088', 't7563'], ['t1297', 't7998'], ['t1768', 't7111'], ['t1952', 't9303'], ['t980', 't8642'], ['t2535', 't2023'], ['t2839', 't3495'], ['t2957', 't5248'], ['t3268', 't4638'], ['t3466', 't5015']]\n"
     ]
    }
   ],
   "source": [
    "DocUnmatchList = [['t1088', 't7563'], ['t1297', 't7998'], ['t1768', 't7111'], ['t1952', 't9303'], ['t980', 't8642'], ['t2535', 't2023'], ['t2839', 't3495'], ['t2957', 't5248'], ['t3268', 't4638'], ['t3466', 't5015']]\n",
    "print(DocUnmatchList)"
   ]
  },
  {
   "cell_type": "markdown",
   "metadata": {},
   "source": [
    "#### Use parse data to get the 1000 document dataset:"
   ]
  },
  {
   "cell_type": "code",
   "execution_count": 10,
   "metadata": {
    "collapsed": true
   },
   "outputs": [],
   "source": [
    "#get data to play around with\n",
    "from six.moves import urllib\n",
    "\n",
    "DataUrl = \"https://raw.githubusercontent.com/chrisjmccormick/MinHash/master/data/articles_1000.train\"\n",
    "\n",
    "\n",
    "DataRequest = urllib.request.Request(DataUrl)\n",
    "with urllib.request.urlopen(DataRequest) as response:\n",
    "   DataRaw = response.read()\n",
    "TheLines = str(DataRaw)[2:-1].split('\\\\n')##snip off the byte stuff and split at carriage returns\n",
    "MyArticleTuples = parse_data(TheLines)"
   ]
  },
  {
   "cell_type": "markdown",
   "metadata": {},
   "source": [
    "#### Since I'm varying k this time, I'll have to slightly modify shingle_document to allow it to return something different.  Also, I'll only shard documents from the document match list (DocMatchList)"
   ]
  },
  {
   "cell_type": "code",
   "execution_count": 11,
   "metadata": {
    "collapsed": true
   },
   "outputs": [],
   "source": [
    "from binascii import crc32\n",
    "\n",
    "##a list of k values (shingle lengths) to test\n",
    "kList = range(1,21,1)\n",
    "\n",
    "###function expects a tuple of length 2(id,article string)\n",
    "def shingle_document_varyK(aTuple,k):\n",
    "    ShardSet = set()\n",
    "    ShardStringSet = set()\n",
    "    ##take a look at each character of the tuple and keep track of the index of each character\n",
    "    for CharacterIndex,TheCharacter in enumerate(aTuple[1]):\n",
    "        ##keep track of id's\n",
    "        TheArticleId = aTuple[0]\n",
    "        ##make a string of length k for each character\n",
    "        TheCrcString = aTuple[1][CharacterIndex:(CharacterIndex+k)]\n",
    "        ##only process strings of length 3, the last two characters won't have as many permutations\n",
    "        if(len(TheCrcString) > 0):\n",
    "            ##just to see\n",
    "            ShardStringSet.add(TheCrcString)\n",
    "            ##encode the string to an integer\n",
    "            CrcHashedItem = crc32(TheCrcString.encode('utf-8'))\n",
    "            ##add each encoded string to the ShardSet\n",
    "            ShardSet.add(CrcHashedItem)\n",
    "    return([ShardSet,TheArticleId,k])"
   ]
  },
  {
   "cell_type": "markdown",
   "metadata": {},
   "source": [
    "#### Get average JS for each k for matched documents"
   ]
  },
  {
   "cell_type": "code",
   "execution_count": 12,
   "metadata": {},
   "outputs": [
    {
     "name": "stdout",
     "output_type": "stream",
     "text": [
      "[[1, 1.0], [2, 0.996875], [3, 0.9920993227990971], [4, 0.9912357581069238], [5, 0.9901071723000825], [6, 0.988673139158576], [7, 0.9871794871794872], [8, 0.9856459330143539], [9, 0.9841017488076311], [10, 0.9825535289452814], [11, 0.9810126582278482], [12, 0.9794628751974723], [13, 0.9779005524861878], [14, 0.9763406940063091], [15, 0.9747832939322301], [16, 0.9732283464566931], [17, 0.9716758457907162], [18, 0.970125786163522], [19, 0.9685781618224667], [20, 0.9670329670329669]]\n"
     ]
    }
   ],
   "source": [
    "ParsedShardedTruthArticles = []\n",
    "JsPerArticlePerK = []\n",
    "##get the jaccard similarity for each document pair that are known to be cases of plagiarism, \n",
    "##and repeat the process for multiple values of k.  \n",
    "##Then get the average similarity for each value of k and store those values in ParsedShardedTruthArticles\n",
    "for DocPair in DocMatchList:\n",
    "    ##print(DocPair)\n",
    "    for aFile in MyArticleTuples:##look for the articles that correspond to the docpair\n",
    "        if(aFile[0] == DocPair[0] or aFile[0] == DocPair[1]):\n",
    "            for k in kList:##when an article is found perform the following for every k in kList\n",
    "                ShingleResult = shingle_document_varyK(aFile,k)\n",
    "                ##print(ShingleResult)\n",
    "                ParsedShardedTruthArticles.append(ShingleResult)\n",
    "    ##go through and get JS for each article pair for every k\n",
    "    ##print(len(ParsedShardedTruthArticles))\n",
    "    for ArticleIndex,ParsedShardedTruthArticle in enumerate(ParsedShardedTruthArticles):\n",
    "        if(ArticleIndex < 20):##only compare each article to its pair\n",
    "            Input1 = ParsedShardedTruthArticles[ArticleIndex][0]\n",
    "            Input2 = ParsedShardedTruthArticles[ArticleIndex + 20][0]\n",
    "            TheJS = get_jaccard(Input1,Input2)\n",
    "            JsPerArticlePerK.append([DocPair[0],DocPair[1],TheJS[2],ParsedShardedTruthArticles[ArticleIndex][2]])\n",
    "        ##PairIndex = PairIndex + 1\n",
    "##print(JsPerArticlePerK[0:20])\n",
    "##now average per k using kList\n",
    "JsPerKinfo = []\n",
    "for k in kList:\n",
    "    Sum = 0\n",
    "    for JsInfo in JsPerArticlePerK:\n",
    "        if(JsInfo[3] == k):\n",
    "            Sum = Sum + JsInfo[2]\n",
    "    TheAvg = Sum/10 ##10 pairs for the 1000 item training set\n",
    "    JsPerKinfo.append([k,TheAvg])\n",
    "print(JsPerKinfo)\n",
    "            \n",
    "\n",
    "    "
   ]
  },
  {
   "cell_type": "code",
   "execution_count": 13,
   "metadata": {
    "collapsed": true
   },
   "outputs": [],
   "source": [
    "#### Get average JS for each k for unmatched documents"
   ]
  },
  {
   "cell_type": "code",
   "execution_count": 14,
   "metadata": {},
   "outputs": [
    {
     "name": "stdout",
     "output_type": "stream",
     "text": [
      "[[1, 0.8529411764705881], [2, 0.6025], [3, 0.25837320574162687], [4, 0.09053685168334849], [5, 0.0372922578029996], [6, 0.01953125], [7, 0.011123897199846565], [8, 0.007229832572298325], [9, 0.004542013626040877], [10, 0.0030200075500188754], [11, 0.0018839487565938209], [12, 0.0007524454477050414], [13, 0.000376081233546446], [14, 0.000376081233546446], [15, 0.000376081233546446], [16, 0.0], [17, 0.0], [18, 0.0], [19, 0.0], [20, 0.0]]\n"
     ]
    }
   ],
   "source": [
    "ParsedShardedTruthArticlesUn = []\n",
    "JsPerArticlePerKUn = []\n",
    "##get the jaccard similarity for each document pair that are known to be cases of plagiarism, \n",
    "##and repeat the process for multiple values of k.  \n",
    "##Then get the average similarity for each value of k and store those values in ParsedShardedTruthArticles\n",
    "for DocPair in DocUnmatchList:\n",
    "    ##print(DocPair)\n",
    "    for aFile in MyArticleTuples:##look for the articles that correspond to the docpair\n",
    "        ##print(aFile[0])\n",
    "        if(aFile[0] == DocPair[0] or aFile[0] == DocPair[1]):\n",
    "            ##print(aFile[0])\n",
    "            for k in kList:##when an article is found perform the following for every k in kList\n",
    "                ShingleResult = shingle_document_varyK(aFile,k)\n",
    "                ##print(ShingleResult)\n",
    "                ParsedShardedTruthArticlesUn.append(ShingleResult)\n",
    "    ##go through and get JS for each article pair for every k\n",
    "    ##print(len(ParsedShardedTruthArticlesUn))\n",
    "    for ArticleIndex,ParsedShardedTruthArticleUn in enumerate(ParsedShardedTruthArticlesUn):\n",
    "        if(ArticleIndex < 20):##only compare each article to its pair\n",
    "            Input1 = ParsedShardedTruthArticlesUn[ArticleIndex][0]\n",
    "            Input2 = ParsedShardedTruthArticlesUn[ArticleIndex + 20][0]\n",
    "            TheJS = get_jaccard(Input1,Input2)\n",
    "            JsPerArticlePerKUn.append([DocPair[0],DocPair[1],TheJS[2],ParsedShardedTruthArticlesUn[ArticleIndex][2]])\n",
    "        ##PairIndex = PairIndex + 1\n",
    "##print(JsPerArticlePerK[0:20])\n",
    "##now average per k using kList\n",
    "JsPerKinfoUn = []\n",
    "for k in kList:\n",
    "    Sum = 0\n",
    "    for JsInfo in JsPerArticlePerKUn:\n",
    "        if(JsInfo[3] == k):\n",
    "            Sum = Sum + JsInfo[2]\n",
    "    TheAvg = Sum/10 ##10 pairs for the 1000 item training set\n",
    "    JsPerKinfoUn.append([k,TheAvg])\n",
    "print(JsPerKinfoUn)"
   ]
  },
  {
   "cell_type": "markdown",
   "metadata": {},
   "source": [
    "#### now structure the data so that I can cast it to a pandas dataframe to prep for plotting/data visualization"
   ]
  },
  {
   "cell_type": "code",
   "execution_count": 15,
   "metadata": {},
   "outputs": [
    {
     "data": {
      "image/png": "[encoded data removed]",
      "text/plain": [
       "<matplotlib.figure.Figure at 0x22b4f4eabe0>"
      ]
     },
     "metadata": {},
     "output_type": "display_data"
    },
    {
     "data": {
      "image/png": "[encoded data removed]",
      "text/plain": [
       "<matplotlib.figure.Figure at 0x22b4f93ef28>"
      ]
     },
     "metadata": {},
     "output_type": "display_data"
    }
   ],
   "source": [
    "import numpy as np\n",
    "import pandas as pd\n",
    "import matplotlib.pyplot as plt\n",
    "\n",
    "JsMatchList = []\n",
    "JsUnmatchList = []\n",
    "for Js in JsPerKinfo:\n",
    "    JsMatchList.append(Js[1])\n",
    "for Js in JsPerKinfoUn:\n",
    "    JsUnmatchList.append(Js[1])\n",
    "##make dataframe\n",
    "d = {'match': JsMatchList,\n",
    "     'unmatch': JsUnmatchList,\n",
    "     'k': kList}\n",
    "df = pd.DataFrame(d)\n",
    "\n",
    "df.plot(x='k',y='match')\n",
    "df.plot(x='k',y='unmatch')\n",
    "plt.show()"
   ]
  },
  {
   "cell_type": "markdown",
   "metadata": {},
   "source": [
    "#### Looks like k should be about 3"
   ]
  },
  {
   "cell_type": "markdown",
   "metadata": {},
   "source": [
    "## Part IIA: Prepare shingles for processing"
   ]
  },
  {
   "cell_type": "markdown",
   "metadata": {},
   "source": [
    "### Implement a function that takes the shingled documents and returns a list of item-document pairs sorted by items that we’ll use to compute the minhash signature of each document"
   ]
  },
  {
   "cell_type": "markdown",
   "metadata": {},
   "source": [
    "#### Input is a list of tuples of form (docid, [items])\n",
    "\n",
    "#### Output is (item, docid) and [list of doc id's]"
   ]
  },
  {
   "cell_type": "code",
   "execution_count": 132,
   "metadata": {
    "collapsed": true
   },
   "outputs": [],
   "source": [
    "#get data to play around with\n",
    "from six.moves import urllib\n",
    "\n",
    "DataUrl = \"https://raw.githubusercontent.com/chrisjmccormick/MinHash/master/data/articles_100.train\"\n",
    "\n",
    "\n",
    "DataRequest = urllib.request.Request(DataUrl)\n",
    "with urllib.request.urlopen(DataRequest) as response:\n",
    "   DataRaw = response.read()\n",
    "TheLines = str(DataRaw)[2:-1].split('\\\\n')##snip off the byte stuff and split at carriage returns\n",
    "MyArticleTuples = parse_data(TheLines)\n",
    "\n",
    "##take a look at each character of the tuple and keep track of the index of each character\n",
    "ParsedShardedArticles = []\n",
    "for TheFile in MyArticleTuples:\n",
    "    ##shard each article and keep it in an array of arrays [id,sharded set]\n",
    "    ShingleResult = shingle_document(TheFile)\n",
    "    ParsedShardedArticles.append([ShingleResult[2],ShingleResult[0]])\n",
    "\n",
    "def invert_shingles(shingled_documents):\n",
    "    TheInvertedTuples = []\n",
    "    TheDocIds = []\n",
    "    for document in shingled_documents:\n",
    "        TheDocIds.append(document[0])\n",
    "        for item in document[1]:\n",
    "            TheInvertedTuples.append((item,document[0]))\n",
    "    ##before returning the tuples, sort it by item\n",
    "    SortedInvertedTuples = sorted(TheInvertedTuples)\n",
    "    return(SortedInvertedTuples,TheDocIds)\n",
    "\n",
    "theInvert = invert_shingles(ParsedShardedArticles)"
   ]
  },
  {
   "cell_type": "code",
   "execution_count": 133,
   "metadata": {},
   "outputs": [
    {
     "name": "stdout",
     "output_type": "stream",
     "text": [
      "[(112368, 't3173'), (600180, 't5435'), (600180, 't6521'), (877549, 't3172'), (877549, 't6525'), (877549, 't8474'), (877549, 't9537'), (1235560, 't5439'), (1235560, 't6524'), (1235560, 't8337')]\n"
     ]
    }
   ],
   "source": [
    "print(theInvert[0][0:10])"
   ]
  },
  {
   "cell_type": "markdown",
   "metadata": {},
   "source": [
    "### Part IIB: Generate hash functions\n",
    "\n",
    "#### Use the instructor provided make_random_hash_fn function to create a function make_hashes. Given an input num_hashes\n",
    "\n",
    "#### The function will return a list of hash functions that mimic the random permutation approach used in the Minhash calculation\n",
    "\n",
    "##### Input is an integer num_hash (the number of hash functions you're trying to create)\n",
    "##### Output is a list of hash functions created by function generate_random_hash_fn"
   ]
  },
  {
   "cell_type": "code",
   "execution_count": 17,
   "metadata": {
    "collapsed": true
   },
   "outputs": [],
   "source": [
    "##instructor provided function\n",
    "\n",
    "import random\n",
    "\n",
    "def make_random_hash_fn(p=2**33-355, m=4294967295):\n",
    "    a = random.randint(1,p-1)\n",
    "    b = random.randint(0, p-1)\n",
    "    return lambda x: ((a * x + b) % p) % m"
   ]
  },
  {
   "cell_type": "code",
   "execution_count": 120,
   "metadata": {
    "collapsed": true
   },
   "outputs": [],
   "source": [
    "##the function for this part\n",
    "def make_hashes(num_hashes):\n",
    "    Count = 0\n",
    "    hashList = []\n",
    "    while (Count < num_hashes):\n",
    "        hash_fn = make_random_hash_fn()\n",
    "        hashList.append(hash_fn)\n",
    "        Count = Count + 1\n",
    "    return(hashList)"
   ]
  },
  {
   "cell_type": "code",
   "execution_count": 134,
   "metadata": {},
   "outputs": [
    {
     "name": "stdout",
     "output_type": "stream",
     "text": [
      "[<function make_random_hash_fn.<locals>.<lambda> at 0x0000022B654C3730>, <function make_random_hash_fn.<locals>.<lambda> at 0x0000022B654C31E0>, <function make_random_hash_fn.<locals>.<lambda> at 0x0000022B654C3C80>, <function make_random_hash_fn.<locals>.<lambda> at 0x0000022B654C3488>, <function make_random_hash_fn.<locals>.<lambda> at 0x0000022B654C3950>, <function make_random_hash_fn.<locals>.<lambda> at 0x0000022B654C3D90>, <function make_random_hash_fn.<locals>.<lambda> at 0x0000022B654C3840>, <function make_random_hash_fn.<locals>.<lambda> at 0x0000022B654C37B8>, <function make_random_hash_fn.<locals>.<lambda> at 0x0000022B654C3400>, <function make_random_hash_fn.<locals>.<lambda> at 0x0000022B4F9DCC80>]\n"
     ]
    },
    {
     "data": {
      "text/plain": [
       "2261327207"
      ]
     },
     "execution_count": 134,
     "metadata": {},
     "output_type": "execute_result"
    }
   ],
   "source": [
    "x3=make_hashes(10)\n",
    "print(x3)\n",
    "x3[0](12345)"
   ]
  },
  {
   "cell_type": "markdown",
   "metadata": {},
   "source": [
    "### Part IIC: Construct the Minhash Signature Matrix"
   ]
  },
  {
   "cell_type": "markdown",
   "metadata": {
    "collapsed": true
   },
   "source": [
    "#### Implement a function that builds the Minhash signature matrix"
   ]
  },
  {
   "cell_type": "code",
   "execution_count": 136,
   "metadata": {},
   "outputs": [],
   "source": [
    "import numpy\n",
    "\n",
    "def make_minhash_signature(shingled_data, num_hashes):\n",
    "    inv_index, docids = invert_shingles(shingled_data)\n",
    "    num_docs = len(docids)\n",
    "    # initialize the signature matrix with infinity in every entry\n",
    "    sigmatrix = np.full([num_hashes, num_docs], np.inf)\n",
    "\n",
    "    # generate hash functions\n",
    "    hash_funcs = make_hashes(num_hashes)\n",
    "    ##print(hash_funcs)\n",
    "    # iterate over each non-zero entry of the characteristic matrix\n",
    "    for row in inv_index:\n",
    "        ##print(row)\n",
    "        ##find the column where this row should point to\n",
    "        TheColumn = docids.index(row[1])\n",
    "        ##go through the hash results\n",
    "        for hashIndex, hashResult in enumerate(hash_funcs):\n",
    "            ##print([hashIndex,TheColumn])\n",
    "            if(int(hashResult(row[0])) < sigmatrix[hashIndex,TheColumn]):\n",
    "                sigmatrix[hashIndex,TheColumn] = hashResult(row[0])\n",
    "        \n",
    "\n",
    "    return sigmatrix, docids"
   ]
  },
  {
   "cell_type": "code",
   "execution_count": 137,
   "metadata": {},
   "outputs": [],
   "source": [
    "matrix,docs = make_minhash_signature(ParsedShardedArticles,2)"
   ]
  },
  {
   "cell_type": "code",
   "execution_count": 139,
   "metadata": {
    "scrolled": true
   },
   "outputs": [
    {
     "name": "stdout",
     "output_type": "stream",
     "text": [
      "[  322786.  3645843.   322786.   322786.    17268.  2343535.   322786.\n",
      "   322786.  2343535.   322786.   322786.    17268.  2343535.  2343535.\n",
      "    17268.  2343535.  1522929.    17268.   322786.   322786.   322786.\n",
      "   322786.   322786.   322786.   322786.   322786.   322786.    17268.\n",
      "   322786.    17268.   322786.    17268.  3645843.   322786.  2343535.\n",
      "   322786.    17268.  2343535.    17268.  3124043.  2343535.   322786.\n",
      "    17268.   322786.   322786.   322786.  2343535.  2343535.    17268.\n",
      "  2343535.  2343535.    17268.   322786.   322786.    17268.   322786.\n",
      "   322786.   322786.    17268.   322786.   322786.   322786.    17268.\n",
      "   322786.   322786.   322786.    17268.    17268.    17268.   322786.\n",
      "   322786.   322786.    17268.    17268.  2343535.    17268.    17268.\n",
      "  2343535.  2343535.    17268.    17268.  2343535.    17268.  2343535.\n",
      "  2343535.  3645843.   322786.  5062640.   322786.  2343535.    17268.\n",
      "   322786.   322786.   322786.   322786.    17268.   322786.   322786.\n",
      "  2343535.   322786.]\n"
     ]
    }
   ],
   "source": [
    "print(matrix[0])"
   ]
  },
  {
   "cell_type": "markdown",
   "metadata": {},
   "source": [
    "## Part IID: MinHash similarity estimate"
   ]
  },
  {
   "cell_type": "markdown",
   "metadata": {},
   "source": [
    "#### Write a function that computes the similarity of two documents using the minhash matrix computed above"
   ]
  },
  {
   "cell_type": "markdown",
   "metadata": {},
   "source": [
    "#### Inputs:\n",
    "    #### id1, id2: document ids\n",
    "    #### minhash_sigmat: minhash signature matrix\n",
    "    #### docids: list of document ids, used to index the columns of the minhash signature matrix\n",
    "\n",
    "#### Output: Jaccard similarity estimated using minhash"
   ]
  },
  {
   "cell_type": "code",
   "execution_count": null,
   "metadata": {
    "collapsed": true
   },
   "outputs": [],
   "source": [
    "def minhash_similarity(id1, id2, minhash_sigmat, docids):\n",
    "  # get column of the similarity matrix for the two documents\n",
    "  # calculate the fraction of rows where two columns match\n",
    "  # return this fraction as the minhash similarity estimate"
   ]
  }
 ],
 "metadata": {
  "kernelspec": {
   "display_name": "Python 3",
   "language": "python",
   "name": "python3"
  },
  "language_info": {
   "codemirror_mode": {
    "name": "ipython",
    "version": 3
   },
   "file_extension": ".py",
   "mimetype": "text/x-python",
   "name": "python",
   "nbconvert_exporter": "python",
   "pygments_lexer": "ipython3",
   "version": "3.6.1"
  }
 },
 "nbformat": 4,
 "nbformat_minor": 2
}
